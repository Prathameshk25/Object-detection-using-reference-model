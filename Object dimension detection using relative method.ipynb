{
 "cells": [
  {
   "cell_type": "code",
   "execution_count": 10,
   "id": "d2e66880",
   "metadata": {},
   "outputs": [
    {
     "ename": "NameError",
     "evalue": "name 'x1' is not defined",
     "output_type": "error",
     "traceback": [
      "\u001b[1;31m---------------------------------------------------------------------------\u001b[0m",
      "\u001b[1;31mNameError\u001b[0m                                 Traceback (most recent call last)",
      "Input \u001b[1;32mIn [10]\u001b[0m, in \u001b[0;36m<cell line: 8>\u001b[1;34m()\u001b[0m\n\u001b[0;32m      8\u001b[0m ret, frame \u001b[38;5;241m=\u001b[39m cap\u001b[38;5;241m.\u001b[39mread()\n\u001b[0;32m     10\u001b[0m \u001b[38;5;66;03m# Draw rectangle around object\u001b[39;00m\n\u001b[1;32m---> 11\u001b[0m cv2\u001b[38;5;241m.\u001b[39mrectangle(frame, (\u001b[43mx1\u001b[49m, y1), (x2, y2), (\u001b[38;5;241m0\u001b[39m, \u001b[38;5;241m255\u001b[39m, \u001b[38;5;241m0\u001b[39m), \u001b[38;5;241m2\u001b[39m)\n\u001b[0;32m     13\u001b[0m \u001b[38;5;66;03m# Measure dimensions of rectangle\u001b[39;00m\n\u001b[0;32m     14\u001b[0m width \u001b[38;5;241m=\u001b[39m x2 \u001b[38;5;241m-\u001b[39m x1\n",
      "\u001b[1;31mNameError\u001b[0m: name 'x1' is not defined"
     ]
    }
   ],
   "source": [
    "import cv2\n",
    "\n",
    "# Start webcam\n",
    "cap = cv2.VideoCapture(0)\n",
    "\n",
    "while True:\n",
    "    # Get webcam frame\n",
    "    ret, frame = cap.read()\n",
    "    \n",
    "    # Draw rectangle around object\n",
    "    cv2.rectangle(frame, (x1, y1), (x2, y2), (0, 255, 0), 2)\n",
    "    \n",
    "    # Measure dimensions of rectangle\n",
    "    width = x2 - x1\n",
    "    height = y2 - y1\n",
    "    \n",
    "    # Display dimensions on screen\n",
    "    cv2.putText(frame, \"Width: \" + str(width) + \" Height: \" + str(height), (10, 30), cv2.FONT_HERSHEY_SIMPLEX, 0.7, (0, 255, 0), 2)\n",
    "    \n",
    "    # Show webcam feed\n",
    "    cv2.imshow(\"Webcam\", frame)\n",
    "    \n",
    "    # Exit loop if 'q' is pressed\n",
    "    if cv2.waitKey(1) & 0xFF == ord('q'):\n",
    "        break\n",
    "\n",
    "# Release webcam and close window\n",
    "cap.release()\n",
    "cv2.destroyAllWindows()\n"
   ]
  },
  {
   "cell_type": "code",
   "execution_count": 11,
   "id": "c0cc16f2",
   "metadata": {},
   "outputs": [
    {
     "ename": "NameError",
     "evalue": "name 'object_width' is not defined",
     "output_type": "error",
     "traceback": [
      "\u001b[1;31m---------------------------------------------------------------------------\u001b[0m",
      "\u001b[1;31mNameError\u001b[0m                                 Traceback (most recent call last)",
      "Input \u001b[1;32mIn [11]\u001b[0m, in \u001b[0;36m<cell line: 10>\u001b[1;34m()\u001b[0m\n\u001b[0;32m      7\u001b[0m known_width \u001b[38;5;241m=\u001b[39m \u001b[38;5;241m5\u001b[39m\n\u001b[0;32m      9\u001b[0m \u001b[38;5;66;03m# Focal length (in pixels)\u001b[39;00m\n\u001b[1;32m---> 10\u001b[0m focal_length \u001b[38;5;241m=\u001b[39m (\u001b[43mobject_width\u001b[49m \u001b[38;5;241m*\u001b[39m known_distance) \u001b[38;5;241m/\u001b[39m known_width\n\u001b[0;32m     12\u001b[0m \u001b[38;5;66;03m# Start webcam\u001b[39;00m\n\u001b[0;32m     13\u001b[0m cap \u001b[38;5;241m=\u001b[39m cv2\u001b[38;5;241m.\u001b[39mVideoCapture(\u001b[38;5;241m0\u001b[39m)\n",
      "\u001b[1;31mNameError\u001b[0m: name 'object_width' is not defined"
     ]
    }
   ],
   "source": [
    "import cv2\n",
    "\n",
    "# Known distance from the object to the camera (in cm)\n",
    "known_distance = 10\n",
    "\n",
    "# Known width of the object (in cm)\n",
    "known_width = 5\n",
    "\n",
    "# Focal length (in pixels)\n",
    "focal_length = (object_width * known_distance) / known_width\n",
    "\n",
    "# Start webcam\n",
    "cap = cv2.VideoCapture(0)\n",
    "\n",
    "while True:\n",
    "    # Get webcam frame\n",
    "    ret, frame = cap.read()\n",
    "\n",
    "    # Convert frame to grayscale\n",
    "    gray = cv2.cvtColor(frame, cv2.COLOR_BGR2GRAY)\n",
    "\n",
    "    # Detect edges using Canny\n",
    "    edges = cv2.Canny(gray, 50, 150)\n",
    "\n",
    "    # Find and draw contours\n",
    "    contours, _ = cv2.findContours(edges, cv2.RETR_EXTERNAL, cv2.CHAIN_APPROX_SIMPLE)\n",
    "    for cnt in contours:\n",
    "        cv2.drawContours(frame, [cnt], 0, (0, 255, 0), 2)\n",
    "\n",
    "        # Measure width of contour\n",
    "        (x, y, w, h) = cv2.boundingRect(cnt)\n",
    "        cv2.putText(frame, \"Width: {:.2f}cm\".format(w / focal_length), (x, y - 10), cv2.FONT_HERSHEY_SIMPLEX, 0.7, (0, 255, 0), 2)\n",
    "\n",
    "    # Show webcam feed\n",
    "    cv2.imshow(\"Webcam\", frame)\n",
    "\n",
    "    # Exit loop if 'q' is pressed\n",
    "    if cv2.waitKey(1) & 0xFF == ord('q'):\n",
    "        break\n",
    "\n",
    "# Release webcam and close window\n",
    "cap.release()\n",
    "cv2.destroyAllWindows()\n"
   ]
  },
  {
   "cell_type": "code",
   "execution_count": 12,
   "id": "edaa0063",
   "metadata": {},
   "outputs": [
    {
     "ename": "error",
     "evalue": "OpenCV(4.6.0) D:\\a\\opencv-python\\opencv-python\\opencv_contrib\\modules\\aruco\\src\\aruco.cpp:1097: error: (-215:Assertion failed) !_image.empty() in function 'cv::aruco::detectMarkers'\n",
     "output_type": "error",
     "traceback": [
      "\u001b[1;31m---------------------------------------------------------------------------\u001b[0m",
      "\u001b[1;31merror\u001b[0m                                     Traceback (most recent call last)",
      "Input \u001b[1;32mIn [12]\u001b[0m, in \u001b[0;36m<cell line: 22>\u001b[1;34m()\u001b[0m\n\u001b[0;32m     22\u001b[0m ret, frame \u001b[38;5;241m=\u001b[39m cap\u001b[38;5;241m.\u001b[39mread()\n\u001b[0;32m     24\u001b[0m \u001b[38;5;66;03m# Detect markers\u001b[39;00m\n\u001b[1;32m---> 25\u001b[0m corners, ids, rejectedImgPoints \u001b[38;5;241m=\u001b[39m \u001b[43maruco\u001b[49m\u001b[38;5;241;43m.\u001b[39;49m\u001b[43mdetectMarkers\u001b[49m\u001b[43m(\u001b[49m\u001b[43mframe\u001b[49m\u001b[43m,\u001b[49m\u001b[43m \u001b[49m\u001b[43mdictionary\u001b[49m\u001b[43m)\u001b[49m\n\u001b[0;32m     27\u001b[0m \u001b[38;5;66;03m# Draw markers on frame\u001b[39;00m\n\u001b[0;32m     28\u001b[0m frame \u001b[38;5;241m=\u001b[39m aruco\u001b[38;5;241m.\u001b[39mdrawDetectedMarkers(frame, corners, ids)\n",
      "\u001b[1;31merror\u001b[0m: OpenCV(4.6.0) D:\\a\\opencv-python\\opencv-python\\opencv_contrib\\modules\\aruco\\src\\aruco.cpp:1097: error: (-215:Assertion failed) !_image.empty() in function 'cv::aruco::detectMarkers'\n"
     ]
    }
   ],
   "source": [
    "import cv2\n",
    "import cv2.aruco as aruco\n",
    "\n",
    "# Known distance from the marker to the camera (in cm)\n",
    "known_distance = 10\n",
    "\n",
    "# Known width of the marker (in cm)\n",
    "known_width = 5\n",
    "\n",
    "# Camera calibration parameters\n",
    "camera_matrix = ...\n",
    "dist_coeffs = ...\n",
    "\n",
    "# Create Aruco dictionary\n",
    "dictionary = aruco.Dictionary_get(aruco.DICT_4X4_50)\n",
    "\n",
    "# Start webcam\n",
    "cap = cv2.VideoCapture(0)\n",
    "\n",
    "while True:\n",
    "    # Get webcam frame\n",
    "    ret, frame = cap.read()\n",
    "\n",
    "    # Detect markers\n",
    "    corners, ids, rejectedImgPoints = aruco.detectMarkers(frame, dictionary)\n",
    "\n",
    "    # Draw markers on frame\n",
    "    frame = aruco.drawDetectedMarkers(frame, corners, ids)\n",
    "\n",
    "    if ids is not None:\n",
    "        # Get marker position in 3D space\n",
    "        rvec, tvec, _ = aruco.estimatePoseSingleMarkers(corners, known_width, camera_matrix, dist_coeffs)\n",
    "\n",
    "        # Draw marker axis\n",
    "        aruco.drawAxis(frame, camera_matrix, dist_coeffs, rvec, tvec, 10)\n",
    "\n",
    "        # Measure width of marker\n",
    "        marker_width = aruco.calculateDistanceToCamera(camera_matrix, dist_coeffs, tvec, known_distance)\n",
    "\n",
    "        # Display width of marker on screen\n",
    "        cv2.putText(frame, \"Width: {:.2f}cm\".format(marker_width), (10, 30), cv2.FONT_HERSHEY_SIMPLEX, 0.7, (0, 255, 0), 2)\n",
    "\n",
    "    # Show webcam feed\n",
    "    cv2.imshow(\"Webcam\", frame)\n",
    "\n",
    "    # Exit loop if 'q' is pressed\n",
    "    if cv2.waitKey(1) & 0xFF == ord('q'):\n",
    "        break\n",
    "\n",
    "# Release webcam and close window\n",
    "cap.release()\n",
    "cv2.destroyAllWindows()\n"
   ]
  },
  {
   "cell_type": "code",
   "execution_count": null,
   "id": "785137b8",
   "metadata": {},
   "outputs": [],
   "source": []
  }
 ],
 "metadata": {
  "kernelspec": {
   "display_name": "Python 3 (ipykernel)",
   "language": "python",
   "name": "python3"
  },
  "language_info": {
   "codemirror_mode": {
    "name": "ipython",
    "version": 3
   },
   "file_extension": ".py",
   "mimetype": "text/x-python",
   "name": "python",
   "nbconvert_exporter": "python",
   "pygments_lexer": "ipython3",
   "version": "3.9.12"
  }
 },
 "nbformat": 4,
 "nbformat_minor": 5
}
